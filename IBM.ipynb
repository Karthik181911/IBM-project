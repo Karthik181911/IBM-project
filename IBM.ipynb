{
  "nbformat": 4,
  "nbformat_minor": 0,
  "metadata": {
    "colab": {
      "private_outputs": true,
      "provenance": [],
      "authorship_tag": "ABX9TyNbkGjJYC5Uzn3nIeGfEgRh",
      "include_colab_link": true
    },
    "kernelspec": {
      "name": "python3",
      "display_name": "Python 3"
    },
    "language_info": {
      "name": "python"
    }
  },
  "cells": [
    {
      "cell_type": "markdown",
      "metadata": {
        "id": "view-in-github",
        "colab_type": "text"
      },
      "source": [
        "<a href=\"https://colab.research.google.com/github/Karthik181911/IBM-project/blob/main/IBM.ipynb\" target=\"_parent\"><img src=\"https://colab.research.google.com/assets/colab-badge.svg\" alt=\"Open In Colab\"/></a>"
      ]
    },
    {
      "cell_type": "code",
      "execution_count": null,
      "metadata": {
        "id": "SBjvwl9iv9vc"
      },
      "outputs": [],
      "source": [
        "import warnings\n",
        "warnings.filterwarnings(\"ignore\")"
      ]
    },
    {
      "cell_type": "code",
      "source": [
        "import numpy as np\n",
        "import pandas as pd"
      ],
      "metadata": {
        "id": "IKpVrf_WxEoC"
      },
      "execution_count": null,
      "outputs": []
    },
    {
      "cell_type": "code",
      "source": [
        "from google.colab import drive\n",
        "drive.mount(\"/content/drive\")"
      ],
      "metadata": {
        "id": "4RYjH0LrxfOc"
      },
      "execution_count": null,
      "outputs": []
    },
    {
      "cell_type": "code",
      "source": [
        "import seaborn as sns\n",
        "import matplotlib.pyplot as plt\n",
        "import plotly.express as px"
      ],
      "metadata": {
        "id": "IHSpUfUByqO2"
      },
      "execution_count": null,
      "outputs": []
    },
    {
      "cell_type": "markdown",
      "source": [
        "Exploratory Data analysis"
      ],
      "metadata": {
        "id": "Awgqi8lSzeue"
      }
    },
    {
      "cell_type": "code",
      "source": [
        "df1=pd.read_csv(\"/content/drive/MyDrive/prevalence-by-mental-and-substance-use-disorder.csv\")\n",
        "df2=pd.read_csv(\"/content/drive/MyDrive/mental-and-substance-use-as-share-of-disease.csv\")"
      ],
      "metadata": {
        "id": "sPzgU8v1zIJ8"
      },
      "execution_count": null,
      "outputs": []
    },
    {
      "cell_type": "code",
      "source": [
        "df1.head()"
      ],
      "metadata": {
        "id": "i1zIOTfV0TOI"
      },
      "execution_count": null,
      "outputs": []
    },
    {
      "cell_type": "code",
      "source": [
        "df2.head(5)"
      ],
      "metadata": {
        "id": "3B_lFA-t0YAx"
      },
      "execution_count": null,
      "outputs": []
    },
    {
      "cell_type": "code",
      "source": [
        "data=pd.merge(df1,df2)\n",
        "data.head(10)"
      ],
      "metadata": {
        "id": "5SAKJVJr0fIM"
      },
      "execution_count": null,
      "outputs": []
    },
    {
      "cell_type": "markdown",
      "source": [
        "# **Data Cleaning**"
      ],
      "metadata": {
        "id": "yzI5R9S5HzOO"
      }
    },
    {
      "cell_type": "code",
      "source": [
        "data.isnull().sum()"
      ],
      "metadata": {
        "id": "_bM3Ng9Y0v_r"
      },
      "execution_count": null,
      "outputs": []
    },
    {
      "cell_type": "code",
      "source": [
        "data.drop(\"Code\",axis=1,inplace=True)"
      ],
      "metadata": {
        "id": "wJQzhAc601vt"
      },
      "execution_count": null,
      "outputs": []
    },
    {
      "cell_type": "code",
      "source": [
        "data.head(10)"
      ],
      "metadata": {
        "id": "sw2Nl6841JYa"
      },
      "execution_count": null,
      "outputs": []
    },
    {
      "cell_type": "code",
      "source": [
        "data.size,data.shape"
      ],
      "metadata": {
        "id": "cATMQ3-i1S5s"
      },
      "execution_count": null,
      "outputs": []
    },
    {
      "cell_type": "code",
      "source": [
        "data.set_axis(['Country', 'Year', 'Schizophrenia', 'Bipolar_disorder','Eating_disorder', 'Anxiety', 'drug_usage', 'depression', 'alcohol', 'mental_fitness'], axis='columns', inplace=True)"
      ],
      "metadata": {
        "id": "aRFNPwMJ1XTh"
      },
      "execution_count": null,
      "outputs": []
    },
    {
      "cell_type": "code",
      "source": [
        "data.head(10)"
      ],
      "metadata": {
        "id": "LsvtXMtC25ur"
      },
      "execution_count": null,
      "outputs": []
    },
    {
      "cell_type": "markdown",
      "source": [
        "# **Visualization**"
      ],
      "metadata": {
        "id": "InF9pT60IGsn"
      }
    },
    {
      "cell_type": "code",
      "source": [
        "plt.figure(figsize=(12,6))\n",
        "sns.heatmap(data.corr(), annot=True, cmap=\"Blues\")\n",
        "plt.plot()"
      ],
      "metadata": {
        "id": "5ueH5MVj3Mf3"
      },
      "execution_count": null,
      "outputs": []
    },
    {
      "cell_type": "code",
      "source": [
        "sns.pairplot(data,corner=True)\n",
        "plt.show()"
      ],
      "metadata": {
        "id": "mSoyYA8x3bLg"
      },
      "execution_count": null,
      "outputs": []
    },
    {
      "cell_type": "code",
      "source": [
        "mean = data['mental_fitness'].mean()\n",
        "mean"
      ],
      "metadata": {
        "id": "goAPuqoj3p99"
      },
      "execution_count": null,
      "outputs": []
    },
    {
      "cell_type": "code",
      "source": [
        "fig = px.pie(data, values='mental_fitness', names='Year')\n",
        "\n",
        "fig.show()"
      ],
      "metadata": {
        "id": "izncgZQbGOjP"
      },
      "execution_count": null,
      "outputs": []
    },
    {
      "cell_type": "code",
      "source": [
        "fig= px.line(data, x=\"Year\", y=\"mental_fitness\",color ='Country' ,markers=True,color_discrete_sequence=[\"red\", \"blue\"], template='plotly_dark')\n",
        "fig.show()"
      ],
      "metadata": {
        "id": "CybA3n3UGhca"
      },
      "execution_count": null,
      "outputs": []
    },
    {
      "cell_type": "code",
      "source": [
        "data.head(10)"
      ],
      "metadata": {
        "id": "gd1czVQcH1f5"
      },
      "execution_count": null,
      "outputs": []
    },
    {
      "cell_type": "code",
      "source": [
        "df=data"
      ],
      "metadata": {
        "id": "yeykkQBXIu_3"
      },
      "execution_count": null,
      "outputs": []
    },
    {
      "cell_type": "code",
      "source": [
        "df.info()"
      ],
      "metadata": {
        "id": "2SdlXZXGJIHs"
      },
      "execution_count": null,
      "outputs": []
    },
    {
      "cell_type": "code",
      "source": [
        "from sklearn.preprocessing import LabelEncoder\n",
        "l=LabelEncoder()\n",
        "for i in df.columns:\n",
        "  if df[i].dtype == 'object':\n",
        "    df[i]=l.fit_transform(df[i])"
      ],
      "metadata": {
        "id": "UFMq-Puwp7zN"
      },
      "execution_count": null,
      "outputs": []
    },
    {
      "cell_type": "code",
      "source": [
        "df.shape"
      ],
      "metadata": {
        "id": "wp--wjHzq8y3"
      },
      "execution_count": null,
      "outputs": []
    },
    {
      "cell_type": "code",
      "source": [
        "X=df.drop('mental_fitness',axis=1)\n",
        "\n",
        "y=df['mental_fitness']\n",
        "\n",
        "from sklearn.model_selection import train_test_split\n",
        "xtrain, xtest, ytrain, ytest=train_test_split(X, y, test_size=.20, random_state=2)"
      ],
      "metadata": {
        "id": "mKW6h1FWr43i"
      },
      "execution_count": null,
      "outputs": []
    },
    {
      "cell_type": "code",
      "source": [
        "print(\"xtrain: \", xtrain.shape)\n",
        "print(\"ytest: \", xtest.shape)\n",
        "print(\"\\n ytrain: \", ytrain.shape)\n",
        "print(\"ytest: \", ytest.shape)"
      ],
      "metadata": {
        "id": "Kya1CjQosGgz"
      },
      "execution_count": null,
      "outputs": []
    },
    {
      "cell_type": "markdown",
      "source": [
        "# **Model Training**"
      ],
      "metadata": {
        "id": "NT4L5o40HR68"
      }
    },
    {
      "cell_type": "code",
      "source": [
        "from sklearn.linear_model import LinearRegression\n",
        "from sklearn.metrics import mean_squared_error, r2_score\n",
        "lr=LinearRegression()\n",
        "lr.fit(xtrain,ytrain)\n",
        "ytrain_pred=lr.predict(xtrain)\n",
        "mse = mean_squared_error(ytrain, ytrain_pred)\n",
        "rmse=(np.sqrt(mean_squared_error(ytrain, ytrain_pred)))\n",
        "r2=r2_score (ytrain, ytrain_pred)\n",
        "\n",
        "print(\"The Linear Regression model performance for training set\")\n",
        "print(\"------------------------------------------------------\")\n",
        "print('MSE is {}'.format(mse))\n",
        "print('RMSE is {}'.format(rmse))\n",
        "print('R2 score is {}'.format(r2))\n"
      ],
      "metadata": {
        "id": "Sa1XyQ8_tr-p"
      },
      "execution_count": null,
      "outputs": []
    },
    {
      "cell_type": "code",
      "source": [
        "from sklearn.ensemble import RandomForestRegressor\n",
        "rf= RandomForestRegressor()\n",
        "rf.fit(xtrain, ytrain)\n",
        "ytrain_pred=rf.predict(xtrain)\n",
        "mse = mean_squared_error(ytrain, ytrain_pred)\n",
        "rmse=(np.sqrt(mean_squared_error(ytrain, ytrain_pred)))\n",
        "r2=r2_score (ytrain, ytrain_pred)\n",
        "\n",
        "print(\"The Random Forest Regressor model performance for training set\")\n",
        "print(\"------------------------------------------------------\")\n",
        "print('MSE is {}'.format(mse))\n",
        "print('RMSE is {}'.format(rmse))\n",
        "print('R2 score is {}'.format(r2))"
      ],
      "metadata": {
        "id": "apSlicXJu94w"
      },
      "execution_count": null,
      "outputs": []
    },
    {
      "cell_type": "markdown",
      "source": [
        "# **EVALUATION**"
      ],
      "metadata": {
        "id": "d0_BBC46HPVn"
      }
    },
    {
      "cell_type": "code",
      "source": [
        "ytest_pred=lr.predict(xtest)\n",
        "mse = mean_squared_error(ytest, ytest_pred)\n",
        "rmse=(np.sqrt(mean_squared_error(ytest,ytest_pred)))\n",
        "r2=r2_score (ytest, ytest_pred)\n",
        "\n",
        "print(\"The Linear Regression model performance for training set\")\n",
        "print(\"------------------------------------------------------\")\n",
        "print('MSE is {}'.format(mse))\n",
        "print('RMSE is {}'.format(rmse))\n",
        "print('R2 score is {}'.format(r2))\n",
        "\n",
        "ytest_pred=rf.predict(xtest)\n",
        "mse = mean_squared_error(ytest, ytest_pred)\n",
        "rmse=(np.sqrt(mean_squared_error(ytest, ytest_pred)))\n",
        "r2=r2_score (ytest, ytest_pred)\n",
        "\n",
        "print(\"\\n \\n The The Random Forest Regressor model performance for training set\")\n",
        "print(\"------------------------------------------------------\")\n",
        "print('MSE is {}'.format(mse))\n",
        "print('RMSE is {}'.format(rmse))\n",
        "print('R2 score is {}'.format(r2))"
      ],
      "metadata": {
        "id": "T91GuC6CvU8C"
      },
      "execution_count": null,
      "outputs": []
    }
  ]
}